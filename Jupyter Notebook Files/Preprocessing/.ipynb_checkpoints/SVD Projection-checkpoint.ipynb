{
 "cells": [
  {
   "cell_type": "markdown",
   "metadata": {},
   "source": [
    "The mass spectrometry data files contain tens of thousands of intensity values for each pixel in the sample. Since this is such a high dimensionality for pixel-by-pixel analysis, it seems reasonable to reduce the dimensionality of the problem. One way to do this (though probably not the best way for this situation) is by an SVD dimension reduction, mathematically proven to be the optimal projection onto a lower dimensionality. This code demonstrates performing this process."
   ]
  },
  {
   "cell_type": "code",
   "execution_count": 1,
   "metadata": {},
   "outputs": [],
   "source": [
    "import h5py\n",
    "import matplotlib.pyplot as plt\n",
    "import numpy as np\n",
    "import os\n",
    "import pandas as pd\n",
    "import random\n",
    "import scipy.io as sio\n",
    "import scipy.linalg as la\n",
    "import scipy.sparse as ssp\n",
    "import warnings; warnings.simplefilter('ignore')"
   ]
  },
  {
   "cell_type": "code",
   "execution_count": 2,
   "metadata": {},
   "outputs": [
    {
     "name": "stdout",
     "output_type": "stream",
     "text": [
      "Skipping file.bin\n",
      "Finished reading in file: 9-6-18 A3D4M3 Slide 3 Brain 1.mat\n",
      "Finished reading in file: brain_2.bin\n",
      "Unable to open mattest.mat\n",
      "Finished reading in file: 10-9-18 A2D16F3 brain 50um.mat\n",
      "Finished reading in file: 8-24-18_agilent_brain.bin\n"
     ]
    }
   ],
   "source": [
    "# Define initial parameters\n",
    "directory = \"../../DESI Data\"\n",
    "\n",
    "# Define the parameters for resampling\n",
    "new_interval_count = int(1e5)\n",
    "new_min, new_max = 100, 1000\n",
    "new_z_axis = np.linspace(new_min, new_max, new_interval_count+1)\n",
    "\n",
    "# Define parameters for storage of resampled spectra\n",
    "max_spectra = 30000\n",
    "spectrum_count = 0\n",
    "spectra = np.zeros((new_interval_count+1, max_spectra))\n",
    "\n",
    "# Iterate through all files in the given directory\n",
    "for file in os.listdir(directory):\n",
    "    # Initialize variables, including container for the 3-d tensor (image)\n",
    "    image, z_axis = None, None\n",
    "    x, y, z = None, None, None\n",
    "    \n",
    "    try:\n",
    "        # The file.bin file has been causing problems.\n",
    "        # Maybe replace or get rid of it?\n",
    "        if file == \"file.bin\":\n",
    "            print(\"Skipping\", file)\n",
    "            continue\n",
    "        \n",
    "        # Handle standard binary files (Agilent)\n",
    "        if file.endswith('.bin'):\n",
    "            f = open(directory + '/' + file, 'rb')\n",
    "            data = np.fromfile(f, '<f4')\n",
    "            x, y, z = [int(n) for n in data[:3]]\n",
    "            image, z_axis = data[3:x*y*z + 3], data[-z:]\n",
    "            image.shape = (y, x, z)\n",
    "            image = image.transpose((1, 0, 2))\n",
    "\n",
    "        # Handle MATLAB binary files (Bruker)\n",
    "        elif file.endswith('.mat'):\n",
    "            data = {}\n",
    "            f = h5py.File(directory + '/' + file, 'r')\n",
    "            for k, v in f.items():\n",
    "                data[k] = np.array(v)\n",
    "            image, z_axis = data['img'], data['imgZ'][0]\n",
    "            x, y, z = [len((data[x] if x != 'imgZ' else data[x].T))\n",
    "                    for x in ['imgX', 'imgY', 'imgZ']]\n",
    "            image.shape = (z, x, y)\n",
    "            image = image.transpose((1, 2, 0))\n",
    "\n",
    "    except:\n",
    "        print(\"Unable to open\", file)\n",
    "        continue\n",
    "    \n",
    "    # Initialize sparse matrix and calculate resampled m/z axis\n",
    "    conversion_matrix = ssp.lil_matrix((new_interval_count+1, z))\n",
    "    min_mask = np.append(z_axis[1:], np.inf) >= new_min\n",
    "    max_mask = np.append(-np.inf, z_axis[min_mask][:-1]) <= new_max\n",
    "    z_axis = z_axis[min_mask][max_mask]\n",
    "  \n",
    "    # Build the sparse matrix to perform resampling on the data array\n",
    "    index = 0\n",
    "    for z in new_z_axis:\n",
    "        right = len(z_axis[z_axis <= z])\n",
    "        left = right - 1\n",
    "        left_dist, right_dist = z - z_axis[left], z_axis[right] - z\n",
    "        conversion_matrix[index,left] = right_dist/(left_dist + right_dist)\n",
    "        conversion_matrix[index,right] = left_dist/(left_dist + right_dist)\n",
    "        index += 1\n",
    "    conversion_matrix = ssp.csr_matrix(conversion_matrix)\n",
    "\n",
    "    # Iterate through each pixel in the image, by row and then column\n",
    "    index = 0\n",
    "    for i in range(x):\n",
    "        for j in range(y):\n",
    "            # Add the given spectrum to the defined container.\n",
    "            spectra[:,index] = conversion_matrix @ image[i][j]            \n",
    "            index += 1\n",
    "            spectrum_count += 1\n",
    "    \n",
    "    # Track progress through files\n",
    "    print(\"Finished reading in file:\", file)\n",
    "\n",
    "# Appropriately resize the spectrum container\n",
    "spectra = spectra[:,:spectrum_count]"
   ]
  },
  {
   "cell_type": "code",
   "execution_count": 3,
   "metadata": {},
   "outputs": [],
   "source": [
    "# Mean shift the spectrum matrix, and calculate its SVD\n",
    "mu = np.mean(spectra, axis=1)\n",
    "spectra = (spectra.T - mu).T\n",
    "U, S, V = la.svd(spectra[:,np.random.choice(spectrum_count,\n",
    "        spectrum_count//10, replace=False)], False)"
   ]
  },
  {
   "cell_type": "code",
   "execution_count": 4,
   "metadata": {},
   "outputs": [
    {
     "data": {
      "text/plain": [
       "0"
      ]
     },
     "execution_count": 4,
     "metadata": {},
     "output_type": "execute_result"
    }
   ],
   "source": [
    "# Select a random spectrum to display\n",
    "spectrum = random.randint(0, 1) # random.randint(0, spectrum_count)\n",
    "spectrum"
   ]
  },
  {
   "cell_type": "code",
   "execution_count": 5,
   "metadata": {},
   "outputs": [],
   "source": [
    "# Project a vector or matrix A into s-dimensional space\n",
    "def project(A, s):\n",
    "    return np.dot(U[:,:s].T, A)"
   ]
  },
  {
   "cell_type": "code",
   "execution_count": 6,
   "metadata": {},
   "outputs": [
    {
     "data": {
      "image/png": "[encoded data removed]",
      "text/plain": [
       "<Figure size 432x288 with 1 Axes>"
      ]
     },
     "metadata": {
      "needs_background": "light"
     },
     "output_type": "display_data"
    }
   ],
   "source": [
    "# Plot the original spectrum\n",
    "plt.plot(new_z_axis, spectra[:,spectrum] + mu)\n",
    "plt.title(\"Original Spectrum\")\n",
    "plt.xlabel(\"Molecular Size (m/z)\")\n",
    "plt.ylabel(\"Abundance (ion count)\")\n",
    "plt.show()"
   ]
  },
  {
   "cell_type": "code",
   "execution_count": 7,
   "metadata": {},
   "outputs": [
    {
     "data": {
      "image/png": "[encoded data removed]",
      "text/plain": [
       "<Figure size 432x288 with 1 Axes>"
      ]
     },
     "metadata": {
      "needs_background": "light"
     },
     "output_type": "display_data"
    }
   ],
   "source": [
    "# Plot the reconstruction for s = 100\n",
    "s = 100\n",
    "reconstruction = U[:,:s]@project(spectra.T[spectrum], s)\n",
    "plt.plot(new_z_axis, reconstruction + mu)\n",
    "plt.title(\"Reconstruction: s=\" + str(s))\n",
    "plt.xlabel(\"Molecular Size (m/z)\")\n",
    "plt.ylabel(\"Abundance (ion count)\")\n",
    "plt.show()"
   ]
  },
  {
   "cell_type": "code",
   "execution_count": 8,
   "metadata": {},
   "outputs": [],
   "source": [
    "# Save the projection of all spectra as a separate file\n",
    "np.savez('projection', project(spectra, s))"
   ]
  },
  {
   "cell_type": "code",
   "execution_count": null,
   "metadata": {},
   "outputs": [],
   "source": []
  }
 ],
 "metadata": {
  "kernelspec": {
   "display_name": "Python 3",
   "language": "python",
   "name": "python3"
  },
  "language_info": {
   "codemirror_mode": {
    "name": "ipython",
    "version": 3
   },
   "file_extension": ".py",
   "mimetype": "text/x-python",
   "name": "python",
   "nbconvert_exporter": "python",
   "pygments_lexer": "ipython3",
   "version": "3.6.7"
  }
 },
 "nbformat": 4,
 "nbformat_minor": 2
}
