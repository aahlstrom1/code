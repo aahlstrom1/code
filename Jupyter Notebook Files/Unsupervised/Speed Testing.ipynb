{
 "cells": [
  {
   "cell_type": "code",
   "execution_count": 1,
   "metadata": {},
   "outputs": [],
   "source": [
    "import numpy as np\n",
    "from scipy.spatial import distance_matrix\n",
    "import time"
   ]
  },
  {
   "cell_type": "code",
   "execution_count": 6,
   "metadata": {},
   "outputs": [
    {
     "name": "stdout",
     "output_type": "stream",
     "text": [
      "For n=2: 0.000156402587890625\n",
      "For n=4: 0.00010251998901367188\n",
      "For n=8: 0.0002295970916748047\n",
      "For n=16: 0.0013086795806884766\n",
      "For n=32: 0.0006780624389648438\n",
      "For n=64: 0.002640247344970703\n",
      "For n=128: 0.0057430267333984375\n",
      "For n=256: 0.01651906967163086\n",
      "For n=512: 0.06970834732055664\n",
      "For n=1024: 0.2371082305908203\n"
     ]
    }
   ],
   "source": [
    "for i in range(1, 10+1):\n",
    "        n = 2**i\n",
    "        array = np.random.random_sample((n, 100))\n",
    "        current_time = time.time()\n",
    "        distance_matrix(array, array)\n",
    "        print(\"For n=\"+str(n)+\":\", time.time() - current_time)"
   ]
  },
  {
   "cell_type": "code",
   "execution_count": 17,
   "metadata": {},
   "outputs": [
    {
     "data": {
      "text/plain": [
       "14.488888888888889"
      ]
     },
     "execution_count": 17,
     "metadata": {},
     "output_type": "execute_result"
    }
   ],
   "source": [
    "# x = 2 ** np.array(list(range(1, 10+1)))\n",
    "# y = np.array([\n",
    "#     0.0022063255310058594,\n",
    "#     0.006584644317626953,\n",
    "#     0.02885293960571289,\n",
    "#     0.13027262687683105,\n",
    "#     0.8132228851318359,\n",
    "#     3.1967146396636963,\n",
    "#     12.811363935470581,\n",
    "#     51.09203338623047,\n",
    "#     204.15136122703552,\n",
    "#     813.8449559211731\n",
    "# ])\n",
    "52160/3600"
   ]
  },
  {
   "cell_type": "code",
   "execution_count": null,
   "metadata": {},
   "outputs": [],
   "source": []
  }
 ],
 "metadata": {
  "kernelspec": {
   "display_name": "Python 3",
   "language": "python",
   "name": "python3"
  },
  "language_info": {
   "codemirror_mode": {
    "name": "ipython",
    "version": 3
   },
   "file_extension": ".py",
   "mimetype": "text/x-python",
   "name": "python",
   "nbconvert_exporter": "python",
   "pygments_lexer": "ipython3",
   "version": "3.6.7"
  }
 },
 "nbformat": 4,
 "nbformat_minor": 2
}
