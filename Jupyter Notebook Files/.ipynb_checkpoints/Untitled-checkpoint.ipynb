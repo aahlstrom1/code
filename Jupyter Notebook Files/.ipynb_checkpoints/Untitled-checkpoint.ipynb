{
 "cells": [
  {
   "cell_type": "code",
   "execution_count": 6,
   "metadata": {},
   "outputs": [],
   "source": [
    "import matplotlib.pyplot as plt\n",
    "import numpy as np\n",
    "import numpy.linalg as la\n",
    "from scipy.optimize import fsolve"
   ]
  },
  {
   "cell_type": "code",
   "execution_count": 16,
   "metadata": {},
   "outputs": [],
   "source": [
    "def burgers_equation(a,b,T,N_x,N_t,u_0,c_a,d_a,h_a,c_b,d_b,h_b):\n",
    "    \"\"\"\n",
    "    Parameters:\n",
    "        a - float\n",
    "        b - float, a < b\n",
    "        T - positive float\n",
    "        N_x - positive integer, N_x > 2, N_x = number of mesh nodes in x\n",
    "        N_t - positive integer, N_t > 1, N_t = number of mesh nodes in t\n",
    "        u_0 - function handle for the initial function auxiliary condition\n",
    "        c_a - function handle\n",
    "        d_a - function handle\n",
    "        h_a - function handle\n",
    "        c_b - function handle\n",
    "        d_b - function handle\n",
    "        h_b - function handle\n",
    "    Returns:\n",
    "        U - a two dimensional numpy array containing floats.\n",
    "        Rows correspond to time and columns to x.\n",
    "    \"\"\"\n",
    "    # Define the step sizes\n",
    "    dx, dt = (b-a)/N_x, T/N_t\n",
    "    #setup initial conditions\n",
    "    x = np.linspace(a,b,N_x+1)\n",
    "    K1, K2 = dt/(4*dx), dt/(2*dx**2)\n",
    "    u_minus, u_plus = 5, 1\n",
    "    s = 0\n",
    "    U = np.zeros((N_t+1, N_x+1))\n",
    "    U[0] = [u_0(x_j) for x_j in x]\n",
    "\n",
    "\n",
    "    def f(U1,U0,t,h_a=h_a,h_b=h_b,c_a=c_a,c_b=c_b,d_a=d_a,d_b=d_b,K1=K1,K2=K2):\n",
    "        \"\"\"The nonlinear implicit Crank-Nicholson equations for\n",
    "        the transformed Burgers' equation.\n",
    "\n",
    "        Parameters\n",
    "        ----------\n",
    "            U1 (ndarray): The values of U^(n+1)\n",
    "            U0 (ndarray): The values of U^n\n",
    "            s (float): wave speed\n",
    "            K1 (float): first constant in the equations\n",
    "            K2 (float): second constant in the equations\n",
    "\n",
    "        Returns\n",
    "        ----------\n",
    "            out (ndarray): The residuals (differences between right- and\n",
    "                        left-hand sides) of the equation, accounting\n",
    "                        for boundary conditions\n",
    "        \"\"\"\n",
    "\n",
    "        left=U1[1:-1]-U0[1:-1]\n",
    "        right_1=K1*((s-U1[1:-1])*(U1[2:]-U1[:-2])+(s-U0[1:-1])*(U0[2:]-U0[:-2]))\n",
    "        right_2=K2*((U1[2:]-2*U1[1:-1]+U1[:-2])+(U0[2:]-2*U0[1:-1]+U0[:-2]))\n",
    "        left_d1=(U1[1]-U1[0])/dx\n",
    "        right_d1=(U1[-1]-U1[-2])/dx\n",
    "        left_r=h_a(t)-c_a(t)*U1[0]-d_a(t)*left_d1\n",
    "        right_r=h_b(t)-c_b(t)*U1[-1]-d_b(t)*right_d1\n",
    "        right=right_1+right_2\n",
    "        return np.hstack(([left_r],left-right,[right_r])).ravel()**2\n",
    "\n",
    "#     test_U = U\n",
    "    initial_guess = U[0]\n",
    "    #use fsolve to find the rows of U[1:]\n",
    "    print('Progress:')\n",
    "    for i in range(1, N_t+1):\n",
    "        #print(max(U[0]))\n",
    "        U0 = U[i-1]\n",
    "        t = i*dt\n",
    "        while np.max(f(U[i],U0,t))>.0001:\n",
    "            step_size=1e-3\n",
    "            gradient=(f(U[i]+.00001,U0,t)-f(U[i],U0,t))/.00001\n",
    "            U[i]=U[i]-gradient*step_size\n",
    "        print(str((i*100)//N_t)+'%',end='\\r')\n",
    "#         test_U[i] = fsolve(f, initial_guess, (U0, t))\n",
    "    return U #, test_U"
   ]
  },
  {
   "cell_type": "code",
   "execution_count": 17,
   "metadata": {},
   "outputs": [
    {
     "name": "stdout",
     "output_type": "stream",
     "text": [
      "Progress:\n",
      "100%\r"
     ]
    },
    {
     "data": {
      "image/png": "[encoded data removed]",
      "text/plain": [
       "<Figure size 432x288 with 3 Axes>"
      ]
     },
     "metadata": {
      "needs_background": "light"
     },
     "output_type": "display_data"
    }
   ],
   "source": [
    "_L, _e, _c0 = 100, .94, 9.6973*np.e - 3\n",
    "_h = lambda _x: np.tanh(((2*_c0)**.5)*(_L/(2-_x))/2*_e)*(2*_c0)**.5\n",
    "_k1 = _k2 = .124\n",
    "_k = .55\n",
    "_a1 = _k1*_h(0) + _k*(.25*np.e - 4)\n",
    "_a2 = -_a1\n",
    "a = 0\n",
    "b = _L\n",
    "T = 500\n",
    "N_x = 100\n",
    "N_t = 500\n",
    "u_0 = lambda x: .4*np.cos(.01*np.pi*x)\n",
    "c_a = lambda t: _k1\n",
    "d_a = lambda t: -_k\n",
    "h_a = lambda t: _a1\n",
    "c_b = lambda t: _k2\n",
    "d_b = lambda t: _k\n",
    "h_b = lambda t: _a2\n",
    "\n",
    "# Solution for the heat equation u_t = u_{xx} with u(x,0) = sin(x), u(a,t) = 0, u(b,t) = 0\n",
    "\n",
    "U = burgers_equation(a,b,T,N_x,N_t,u_0,c_a,d_a,h_a,c_b,d_b,h_b)\n",
    "# test_U\n",
    "\n",
    "x = np.linspace(a,b,N_x+1)\n",
    "plt.subplot(221)\n",
    "plt.plot(x,U[0], label=\"t = 0\")\n",
    "# plt.plot(x,test_U[0], label='test_U')\n",
    "plt.legend()\n",
    "plt.subplot(222)\n",
    "plt.plot(x,U[100], label=\"t = 100\")\n",
    "# plt.plot(x,test_U[100], label=\"test_U\")\n",
    "plt.legend()\n",
    "plt.subplot(223)\n",
    "plt.plot(x,U[200], label=\"t = 200\")\n",
    "# plt.plot(x,test_U[200], label=\"test_U\")\n",
    "plt.legend()\n",
    "plt.show()"
   ]
  },
  {
   "cell_type": "code",
   "execution_count": null,
   "metadata": {},
   "outputs": [],
   "source": []
  }
 ],
 "metadata": {
  "kernelspec": {
   "display_name": "Python 3",
   "language": "python",
   "name": "python3"
  },
  "language_info": {
   "codemirror_mode": {
    "name": "ipython",
    "version": 3
   },
   "file_extension": ".py",
   "mimetype": "text/x-python",
   "name": "python",
   "nbconvert_exporter": "python",
   "pygments_lexer": "ipython3",
   "version": "3.6.7"
  }
 },
 "nbformat": 4,
 "nbformat_minor": 2
}
