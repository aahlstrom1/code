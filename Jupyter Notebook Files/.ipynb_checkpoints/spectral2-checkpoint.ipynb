{
 "cells": [
  {
   "cell_type": "markdown",
   "metadata": {},
   "source": [
    "# Spectral 2"
   ]
  },
  {
   "cell_type": "code",
   "execution_count": 36,
   "metadata": {},
   "outputs": [],
   "source": [
    "import numpy as np\n",
    "from scipy.fftpack import fft, ifft\n",
    "from scipy.integrate import odeint\n",
    "import matplotlib.pyplot as plt"
   ]
  },
  {
   "cell_type": "markdown",
   "metadata": {},
   "source": [
    "## Problem 1\n",
    "\n",
    "Consider again the function $u(x) = \\sin^2 (x) \\cos(x) +e^{2\\sin(x+1)}$.\n",
    "Create a function that approximates $\\frac{1}{2}u''-u'$ on the Fourier grid points for $N=24$. Plot the approximation as well as the analytic solution."
   ]
  },
  {
   "cell_type": "code",
   "execution_count": 23,
   "metadata": {},
   "outputs": [],
   "source": [
    "N = 24\n",
    "x1 = (2*np.pi/N)*np.arange(1,N+1)\n",
    "f = lambda x: np.sin(x)**2*np.cos(x) + np.exp(2*np.sin(x+1))\n",
    "k = np.concatenate(( np.arange(0,N/2),\n",
    "        np.array([0]),\n",
    "        np.arange(-N/2+1,0,1)))\n",
    "\n",
    "f_hat = fft(f(x1))\n",
    "fp_hat = (1j*k)*f_hat - (1/2)*(k**2)*f_hat\n",
    "fp = np.real(ifft(fp_hat))"
   ]
  },
  {
   "cell_type": "markdown",
   "metadata": {},
   "source": [
    "Analytic solution:\n",
    "$g(x)=\\frac{1}{2}u''(x)-u'(x)=-sin^3(x) + 2 sin(x) cos^2(x) + \\frac{1}{2} (2 cos^3(x) - 2 e^{2 sin(x + 1)} (sin(x + 1) - 2 cos^2(x + 1)) - 7 sin^2(x) cos(x)) + 2 e^{2 sin(x + 1)} cos(x + 1)$"
   ]
  },
  {
   "cell_type": "code",
   "execution_count": 28,
   "metadata": {},
   "outputs": [],
   "source": [
    "g = lambda x: (-np.sin(x)**3 + 2*np.sin(x)*np.cos(x)**2 +\n",
    "        (1/2)*(2*np.cos(x)**3 - 2*np.exp(2*np.sin(x + 1))*(np.sin(x + 1) -\n",
    "        2*np.cos(x + 1)**2) - 7*np.sin(x)**2 * np.cos(x)) +\n",
    "        2*np.exp(2*np.sin(x + 1))*np.cos(x + 1))\n",
    "domain = np.linspace(0, 2*np.pi, 100)"
   ]
  },
  {
   "cell_type": "markdown",
   "metadata": {},
   "source": [
    "Graph of results:"
   ]
  },
  {
   "cell_type": "code",
   "execution_count": 33,
   "metadata": {},
   "outputs": [
    {
     "data": {
      "image/png": "[encoded data removed]",
      "text/plain": [
       "<Figure size 432x288 with 1 Axes>"
      ]
     },
     "metadata": {},
     "output_type": "display_data"
    }
   ],
   "source": [
    "plt.plot(domain, g(domain), label=\"Analytic Solution\")\n",
    "plt.plot(x1, fp, 'r*', label=\"Fourier Approximation\")\n",
    "plt.title(\"Graph of $g(x)$, with approximated interpolation points\")\n",
    "plt.legend()\n",
    "plt.show()"
   ]
  },
  {
   "cell_type": "markdown",
   "metadata": {},
   "source": [
    "## Problem 2\n",
    "\n",
    "Use `scipy.integrate.odeint` to solve the initial value problem \n",
    "\t\\begin{align}\n",
    "\t\tu_t +c(x) u_x = 0,\n",
    "\t\\end{align}\n",
    "where $c(x) = .2 + \\sin^2(x-1)$, and $u(x,t=0) = e^{-100(x-1)^2}.$ Use the method given in the lab to rewrite the problem as a system of ODEs.\n",
    "Animate your numerical solution from $t = 0$ to $t = 8$ (and $x \\in [0,2\\pi]$) over 150 time steps and 100 $x$ steps."
   ]
  },
  {
   "cell_type": "code",
   "execution_count": 35,
   "metadata": {},
   "outputs": [],
   "source": [
    "N = 100\n",
    "t = np.linspace(0, 8, 150)\n",
    "\n",
    "c = lambda x: .2 + np.sin(x - 1)**2\n",
    "u_t_0 = lambda x: np.exp(-100*(x -1)**2)\n",
    "u_t = lambda x, t: -c(x)\n",
    "\n",
    "sol = odeint()"
   ]
  },
  {
   "cell_type": "code",
   "execution_count": null,
   "metadata": {},
   "outputs": [],
   "source": []
  }
 ],
 "metadata": {
  "kernelspec": {
   "display_name": "Python 3",
   "language": "python",
   "name": "python3"
  },
  "language_info": {
   "codemirror_mode": {
    "name": "ipython",
    "version": 3
   },
   "file_extension": ".py",
   "mimetype": "text/x-python",
   "name": "python",
   "nbconvert_exporter": "python",
   "pygments_lexer": "ipython3",
   "version": "3.6.7"
  }
 },
 "nbformat": 4,
 "nbformat_minor": 2
}
